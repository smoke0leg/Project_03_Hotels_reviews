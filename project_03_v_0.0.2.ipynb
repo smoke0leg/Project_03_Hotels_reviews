{
 "cells": [
  {
   "cell_type": "code",
   "execution_count": 1,
   "metadata": {},
   "outputs": [],
   "source": [
    "# Import modules\n",
    "import pandas as pd\n",
    "import matplotlib.pyplot as plt\n",
    "import seaborn as sns\n",
    "from comet_ml import Experiment\n",
    "from sklearn import metrics"
   ]
  },
  {
   "cell_type": "code",
   "execution_count": 2,
   "metadata": {},
   "outputs": [],
   "source": [
    "# Reading secret JSON with api_keys\n",
    "import json\n",
    "\n",
    "with open ('data/secret.json', 'r') as f:\n",
    "    secret = json.load(f)"
   ]
  },
  {
   "cell_type": "code",
   "execution_count": 3,
   "metadata": {},
   "outputs": [],
   "source": [
    "# Select random state for project\n",
    "random_state = 42"
   ]
  },
  {
   "cell_type": "code",
   "execution_count": 4,
   "metadata": {},
   "outputs": [
    {
     "data": {
      "text/html": [
       "<div>\n",
       "<style scoped>\n",
       "    .dataframe tbody tr th:only-of-type {\n",
       "        vertical-align: middle;\n",
       "    }\n",
       "\n",
       "    .dataframe tbody tr th {\n",
       "        vertical-align: top;\n",
       "    }\n",
       "\n",
       "    .dataframe thead th {\n",
       "        text-align: right;\n",
       "    }\n",
       "</style>\n",
       "<table border=\"1\" class=\"dataframe\">\n",
       "  <thead>\n",
       "    <tr style=\"text-align: right;\">\n",
       "      <th></th>\n",
       "      <th>hotel_address</th>\n",
       "      <th>additional_number_of_scoring</th>\n",
       "      <th>review_date</th>\n",
       "      <th>average_score</th>\n",
       "      <th>hotel_name</th>\n",
       "      <th>reviewer_nationality</th>\n",
       "      <th>negative_review</th>\n",
       "      <th>review_total_negative_word_counts</th>\n",
       "      <th>total_number_of_reviews</th>\n",
       "      <th>positive_review</th>\n",
       "      <th>review_total_positive_word_counts</th>\n",
       "      <th>total_number_of_reviews_reviewer_has_given</th>\n",
       "      <th>reviewer_score</th>\n",
       "      <th>tags</th>\n",
       "      <th>days_since_review</th>\n",
       "      <th>lat</th>\n",
       "      <th>lng</th>\n",
       "    </tr>\n",
       "  </thead>\n",
       "  <tbody>\n",
       "    <tr>\n",
       "      <th>0</th>\n",
       "      <td>Stratton Street Mayfair Westminster Borough Lo...</td>\n",
       "      <td>581</td>\n",
       "      <td>2/19/2016</td>\n",
       "      <td>8.4</td>\n",
       "      <td>The May Fair Hotel</td>\n",
       "      <td>United Kingdom</td>\n",
       "      <td>Leaving</td>\n",
       "      <td>3</td>\n",
       "      <td>1994</td>\n",
       "      <td>Staff were amazing</td>\n",
       "      <td>4</td>\n",
       "      <td>7</td>\n",
       "      <td>10.0</td>\n",
       "      <td>[' Leisure trip ', ' Couple ', ' Studio Suite ...</td>\n",
       "      <td>531 day</td>\n",
       "      <td>51.507894</td>\n",
       "      <td>-0.143671</td>\n",
       "    </tr>\n",
       "    <tr>\n",
       "      <th>1</th>\n",
       "      <td>130 134 Southampton Row Camden London WC1B 5AF...</td>\n",
       "      <td>299</td>\n",
       "      <td>1/12/2017</td>\n",
       "      <td>8.3</td>\n",
       "      <td>Mercure London Bloomsbury Hotel</td>\n",
       "      <td>United Kingdom</td>\n",
       "      <td>poor breakfast</td>\n",
       "      <td>3</td>\n",
       "      <td>1361</td>\n",
       "      <td>location</td>\n",
       "      <td>2</td>\n",
       "      <td>14</td>\n",
       "      <td>6.3</td>\n",
       "      <td>[' Business trip ', ' Couple ', ' Standard Dou...</td>\n",
       "      <td>203 day</td>\n",
       "      <td>51.521009</td>\n",
       "      <td>-0.123097</td>\n",
       "    </tr>\n",
       "    <tr>\n",
       "      <th>2</th>\n",
       "      <td>151 bis Rue de Rennes 6th arr 75006 Paris France</td>\n",
       "      <td>32</td>\n",
       "      <td>10/18/2016</td>\n",
       "      <td>8.9</td>\n",
       "      <td>Legend Saint Germain by Elegancia</td>\n",
       "      <td>China</td>\n",
       "      <td>No kettle in room</td>\n",
       "      <td>6</td>\n",
       "      <td>406</td>\n",
       "      <td>No Positive</td>\n",
       "      <td>0</td>\n",
       "      <td>14</td>\n",
       "      <td>7.5</td>\n",
       "      <td>[' Leisure trip ', ' Solo traveler ', ' Modern...</td>\n",
       "      <td>289 day</td>\n",
       "      <td>48.845377</td>\n",
       "      <td>2.325643</td>\n",
       "    </tr>\n",
       "    <tr>\n",
       "      <th>3</th>\n",
       "      <td>216 Avenue Jean Jaures 19th arr 75019 Paris Fr...</td>\n",
       "      <td>34</td>\n",
       "      <td>9/22/2015</td>\n",
       "      <td>7.5</td>\n",
       "      <td>Mercure Paris 19 Philharmonie La Villette</td>\n",
       "      <td>United Kingdom</td>\n",
       "      <td>No Negative</td>\n",
       "      <td>0</td>\n",
       "      <td>607</td>\n",
       "      <td>Friendly staff quiet comfortable room spotles...</td>\n",
       "      <td>11</td>\n",
       "      <td>8</td>\n",
       "      <td>10.0</td>\n",
       "      <td>[' Leisure trip ', ' Solo traveler ', ' Standa...</td>\n",
       "      <td>681 day</td>\n",
       "      <td>48.888697</td>\n",
       "      <td>2.394540</td>\n",
       "    </tr>\n",
       "    <tr>\n",
       "      <th>4</th>\n",
       "      <td>Molenwerf 1 1014 AG Amsterdam Netherlands</td>\n",
       "      <td>914</td>\n",
       "      <td>3/5/2016</td>\n",
       "      <td>8.5</td>\n",
       "      <td>Golden Tulip Amsterdam West</td>\n",
       "      <td>Poland</td>\n",
       "      <td>Torn sheets</td>\n",
       "      <td>4</td>\n",
       "      <td>7586</td>\n",
       "      <td>The staff was very friendly and helpful Break...</td>\n",
       "      <td>20</td>\n",
       "      <td>10</td>\n",
       "      <td>9.6</td>\n",
       "      <td>[' Business trip ', ' Couple ', ' Standard Dou...</td>\n",
       "      <td>516 day</td>\n",
       "      <td>52.385601</td>\n",
       "      <td>4.847060</td>\n",
       "    </tr>\n",
       "  </tbody>\n",
       "</table>\n",
       "</div>"
      ],
      "text/plain": [
       "                                       hotel_address   \n",
       "0  Stratton Street Mayfair Westminster Borough Lo...  \\\n",
       "1  130 134 Southampton Row Camden London WC1B 5AF...   \n",
       "2   151 bis Rue de Rennes 6th arr 75006 Paris France   \n",
       "3  216 Avenue Jean Jaures 19th arr 75019 Paris Fr...   \n",
       "4          Molenwerf 1 1014 AG Amsterdam Netherlands   \n",
       "\n",
       "   additional_number_of_scoring review_date  average_score   \n",
       "0                           581   2/19/2016            8.4  \\\n",
       "1                           299   1/12/2017            8.3   \n",
       "2                            32  10/18/2016            8.9   \n",
       "3                            34   9/22/2015            7.5   \n",
       "4                           914    3/5/2016            8.5   \n",
       "\n",
       "                                  hotel_name reviewer_nationality   \n",
       "0                         The May Fair Hotel      United Kingdom   \\\n",
       "1            Mercure London Bloomsbury Hotel      United Kingdom    \n",
       "2          Legend Saint Germain by Elegancia               China    \n",
       "3  Mercure Paris 19 Philharmonie La Villette      United Kingdom    \n",
       "4                Golden Tulip Amsterdam West              Poland    \n",
       "\n",
       "       negative_review  review_total_negative_word_counts   \n",
       "0             Leaving                                   3  \\\n",
       "1       poor breakfast                                  3   \n",
       "2   No kettle in room                                   6   \n",
       "3          No Negative                                  0   \n",
       "4         Torn sheets                                   4   \n",
       "\n",
       "   total_number_of_reviews                                    positive_review   \n",
       "0                     1994                                 Staff were amazing  \\\n",
       "1                     1361                                           location   \n",
       "2                      406                                        No Positive   \n",
       "3                      607   Friendly staff quiet comfortable room spotles...   \n",
       "4                     7586   The staff was very friendly and helpful Break...   \n",
       "\n",
       "   review_total_positive_word_counts   \n",
       "0                                  4  \\\n",
       "1                                  2   \n",
       "2                                  0   \n",
       "3                                 11   \n",
       "4                                 20   \n",
       "\n",
       "   total_number_of_reviews_reviewer_has_given  reviewer_score   \n",
       "0                                           7            10.0  \\\n",
       "1                                          14             6.3   \n",
       "2                                          14             7.5   \n",
       "3                                           8            10.0   \n",
       "4                                          10             9.6   \n",
       "\n",
       "                                                tags days_since_review   \n",
       "0  [' Leisure trip ', ' Couple ', ' Studio Suite ...           531 day  \\\n",
       "1  [' Business trip ', ' Couple ', ' Standard Dou...           203 day   \n",
       "2  [' Leisure trip ', ' Solo traveler ', ' Modern...           289 day   \n",
       "3  [' Leisure trip ', ' Solo traveler ', ' Standa...           681 day   \n",
       "4  [' Business trip ', ' Couple ', ' Standard Dou...           516 day   \n",
       "\n",
       "         lat       lng  \n",
       "0  51.507894 -0.143671  \n",
       "1  51.521009 -0.123097  \n",
       "2  48.845377  2.325643  \n",
       "3  48.888697  2.394540  \n",
       "4  52.385601  4.847060  "
      ]
     },
     "execution_count": 4,
     "metadata": {},
     "output_type": "execute_result"
    }
   ],
   "source": [
    "# Reading csv income data as dataframe and show head 5 \n",
    "hotels_df = pd.read_csv('data/hotels.csv')\n",
    "hotels_df.head()"
   ]
  },
  {
   "cell_type": "code",
   "execution_count": 5,
   "metadata": {},
   "outputs": [
    {
     "name": "stdout",
     "output_type": "stream",
     "text": [
      "Data frame size: (386803, 17)\n",
      "\n",
      "<class 'pandas.core.frame.DataFrame'>\n",
      "RangeIndex: 386803 entries, 0 to 386802\n",
      "Data columns (total 17 columns):\n",
      " #   Column                                      Non-Null Count   Dtype  \n",
      "---  ------                                      --------------   -----  \n",
      " 0   hotel_address                               386803 non-null  object \n",
      " 1   additional_number_of_scoring                386803 non-null  int64  \n",
      " 2   review_date                                 386803 non-null  object \n",
      " 3   average_score                               386803 non-null  float64\n",
      " 4   hotel_name                                  386803 non-null  object \n",
      " 5   reviewer_nationality                        386803 non-null  object \n",
      " 6   negative_review                             386803 non-null  object \n",
      " 7   review_total_negative_word_counts           386803 non-null  int64  \n",
      " 8   total_number_of_reviews                     386803 non-null  int64  \n",
      " 9   positive_review                             386803 non-null  object \n",
      " 10  review_total_positive_word_counts           386803 non-null  int64  \n",
      " 11  total_number_of_reviews_reviewer_has_given  386803 non-null  int64  \n",
      " 12  reviewer_score                              386803 non-null  float64\n",
      " 13  tags                                        386803 non-null  object \n",
      " 14  days_since_review                           386803 non-null  object \n",
      " 15  lat                                         384355 non-null  float64\n",
      " 16  lng                                         384355 non-null  float64\n",
      "dtypes: float64(4), int64(5), object(8)\n",
      "memory usage: 50.2+ MB\n"
     ]
    },
    {
     "data": {
      "text/plain": [
       "None"
      ]
     },
     "metadata": {},
     "output_type": "display_data"
    }
   ],
   "source": [
    "# Checking data frame size and information about type of data\n",
    "print(f'Data frame size: {hotels_df.shape}')\n",
    "print()\n",
    "display(hotels_df.info())"
   ]
  },
  {
   "cell_type": "code",
   "execution_count": 6,
   "metadata": {},
   "outputs": [
    {
     "name": "stdout",
     "output_type": "stream",
     "text": [
      "lat column have 0.63% nulls\n",
      "lng column have 0.63% nulls\n"
     ]
    }
   ],
   "source": [
    "# Finding nulls numbers in lat and lng columns\n",
    "print(f\"lat column have {round(hotels_df['lat'].isnull().sum() / hotels_df.shape[0] * 100, 2)}% nulls\")\n",
    "print(f\"lng column have {round(hotels_df['lng'].isnull().sum() / hotels_df.shape[0] * 100, 2)}% nulls\")"
   ]
  },
  {
   "cell_type": "code",
   "execution_count": 7,
   "metadata": {},
   "outputs": [
    {
     "name": "stdout",
     "output_type": "stream",
     "text": [
      "Number of unique hotle names: 1492\n"
     ]
    }
   ],
   "source": [
    "# Finding hotel unique numbers\n",
    "print(f\"Number of unique hotle names: {hotels_df['hotel_name'].nunique()}\")"
   ]
  },
  {
   "cell_type": "code",
   "execution_count": 8,
   "metadata": {},
   "outputs": [
    {
     "name": "stdout",
     "output_type": "stream",
     "text": [
      "Last review was: 2017-08-03\n",
      "First review was: 2015-08-04\n"
     ]
    }
   ],
   "source": [
    "# Converting review date column to datetime format\n",
    "hotels_df['review_date'] = pd.to_datetime(hotels_df['review_date'], format='%m/%d/%Y')\n",
    "# Checking date interval\n",
    "print(f'Last review was: {hotels_df[\"review_date\"].max().date()}')\n",
    "print(f'First review was: {hotels_df[\"review_date\"].min().date()}')"
   ]
  },
  {
   "cell_type": "code",
   "execution_count": null,
   "metadata": {},
   "outputs": [],
   "source": [
    "# # Checking and clean data from duplicates\n",
    "# print(f'Duplicates in data: {hotels_df.duplicated().sum()}')\n",
    "\n",
    "# hotels_df = hotels_df.drop_duplicates()"
   ]
  },
  {
   "cell_type": "code",
   "execution_count": null,
   "metadata": {},
   "outputs": [],
   "source": [
    "# Converting string with tags to list in dataframe\n",
    "def get_tags_list(tags_string):\n",
    "    tags_list = tags_string.strip(\"[]\").split(\", \")\n",
    "    tags_list = [tag.strip(\"' \") for tag in tags_list]\n",
    "    return tags_list\n",
    "\n",
    "hotels_df['tags'] = hotels_df['tags'].apply(lambda x: x.lower())\n",
    "hotels_df['tags'] = hotels_df['tags'].apply(get_tags_list)\n",
    "# Finding unique tags\n",
    "all_tags = []\n",
    "for tags_list in hotels_df['tags']:\n",
    "    all_tags.extend(tags_list)\n",
    "unique_tags = set(all_tags)"
   ]
  },
  {
   "cell_type": "code",
   "execution_count": null,
   "metadata": {},
   "outputs": [],
   "source": [
    "# Displaying numbers of unique tags\n",
    "print(f'Number of unique tags: {len(unique_tags)}')\n",
    "# Dsiplaying top tags by counting\n",
    "all_tags = pd.Series(all_tags)\n",
    "all_tags.value_counts()[all_tags.value_counts()>10000]"
   ]
  },
  {
   "attachments": {},
   "cell_type": "markdown",
   "metadata": {},
   "source": [
    "Was finded tags with information about stayed nights numbers. Let's create new column with these information and clean it from tags."
   ]
  },
  {
   "cell_type": "code",
   "execution_count": null,
   "metadata": {},
   "outputs": [],
   "source": [
    "# Finding number of stayed nights from tags\n",
    "def get_night_numbers(tags):\n",
    "    for tag in tags:\n",
    "        if 'stayed' in tag:\n",
    "            tag = tag.split(sep=' ')\n",
    "            return int(tag[1])\n",
    "        \n",
    "# Checking recieved Data\n",
    "print(f\"Unique recieved values: {hotels_df['tags'].apply(get_night_numbers).unique()}\")\n",
    "hotels_df['nights_satyed'] = hotels_df['tags'].apply(get_night_numbers)\n",
    "\n",
    "# Cleaning tags from stayed nights information\n",
    "def remove_stayed_night(tags):\n",
    "    tags_list = [tag for tag in tags if not tag.startswith('stayed')]\n",
    "    return tags_list\n",
    "\n",
    "hotels_df['tags'] = hotels_df['tags'].apply(remove_stayed_night)"
   ]
  },
  {
   "cell_type": "code",
   "execution_count": null,
   "metadata": {},
   "outputs": [],
   "source": [
    "# Finding nan's in stayed nights column\n",
    "print(f\"{hotels_df['nights_satyed'].isna().sum()} nan's\")"
   ]
  },
  {
   "cell_type": "code",
   "execution_count": null,
   "metadata": {},
   "outputs": [],
   "source": [
    "# Filling night_satyed NaN as mode for the Hotel\n",
    "for hotel in hotels_df[hotels_df['nights_satyed'].isnull()]['hotel_name'].unique():\n",
    "    mode_value = hotels_df[hotels_df['hotel_name'] == hotel]['nights_satyed'].mode()[0]\n",
    "    hotels_df.loc[hotels_df['hotel_name'] == hotel, 'nights_satyed'] = hotels_df[hotels_df['hotel_name'] == hotel]['nights_satyed'].fillna(mode_value)"
   ]
  },
  {
   "cell_type": "code",
   "execution_count": null,
   "metadata": {},
   "outputs": [],
   "source": [
    "# Recieving all tags for find most popular\n",
    "all_tags = []\n",
    "for tags_list in hotels_df['tags']:\n",
    "    all_tags.extend(tags_list)\n",
    "    \n",
    "all_tags = pd.Series(all_tags)\n",
    "# Displaying top 20 tags count list \n",
    "display(all_tags.value_counts()[0:19])\n",
    "# Create top 20 tags list\n",
    "top_tags_list = all_tags.value_counts()[0:19].index"
   ]
  },
  {
   "cell_type": "code",
   "execution_count": null,
   "metadata": {},
   "outputs": [],
   "source": [
    "# Creating binar feature for top tags\n",
    "for tag in top_tags_list:\n",
    "    hotels_df[tag] = hotels_df['tags'].apply(lambda x: 1 if tag in x else 0)"
   ]
  },
  {
   "cell_type": "code",
   "execution_count": null,
   "metadata": {},
   "outputs": [],
   "source": [
    "# Create country column from hotel address\n",
    "hotels_df['country'] = hotels_df['hotel_address'].apply(lambda x: x.split(sep=' ')[-1])\n",
    "hotels_df['country'] = hotels_df['country'].apply(lambda x: 'United_Kingdom' if x == 'Kingdom' else x)"
   ]
  },
  {
   "cell_type": "code",
   "execution_count": null,
   "metadata": {},
   "outputs": [],
   "source": [
    "# Convert to integer days_since_review column\n",
    "hotels_df['days_since_review'] = hotels_df['days_since_review'].apply(lambda x: int(x.split(sep=' ')[0]))"
   ]
  },
  {
   "cell_type": "code",
   "execution_count": null,
   "metadata": {},
   "outputs": [],
   "source": [
    "# Creating month of review column\n",
    "hotels_df['review_month'] = hotels_df['review_date'].apply(lambda x: x.month)"
   ]
  },
  {
   "cell_type": "code",
   "execution_count": null,
   "metadata": {},
   "outputs": [],
   "source": [
    "#Fill nans in lan and lng columns\n",
    "# Import time library\n",
    "import time\n",
    "# Import OpenCageGeocode for fill nulls in lat and lng\n",
    "from opencage.geocoder import OpenCageGeocode\n",
    "\n",
    "key = secret['API_KEY_OPENCAGE']\n",
    "geocoder = OpenCageGeocode(key)\n",
    "# Get latitude and longtitude from OpenCageGeocode api\n",
    "for address in hotels_df[hotels_df['lat'].isnull()]['hotel_address'].unique():\n",
    "    query = address\n",
    "    results = geocoder.geocode(query)\n",
    "    # print(results[0]['geometry']['lat'])\n",
    "    # print(results[0]['geometry']['lng'])\n",
    "    lat = float(results[0]['geometry']['lat'])\n",
    "    lng = float(results[0]['geometry']['lng'])\n",
    "    hotels_df.loc[hotels_df['hotel_address'] == address, 'lat'] = lat\n",
    "    hotels_df.loc[hotels_df['hotel_address'] == address, 'lng'] = lng\n",
    "    # 1 second pause becouse api accept 1 request per second at free subscription\n",
    "    time.sleep(1)"
   ]
  },
  {
   "cell_type": "code",
   "execution_count": null,
   "metadata": {},
   "outputs": [],
   "source": [
    "hotels_df['positive_review'] = hotels_df['positive_review'].apply(lambda x: x.lower())\n",
    "# Get nothing positive\n",
    "def get_positive_nothing(review):\n",
    "    if review == 'no positive' or review == ' nothing ' or review == ' n a' or review == ' nothing' or review == ' ':\n",
    "        return 1\n",
    "    else: \n",
    "        return 0\n",
    "    \n",
    "hotels_df['positive_nothing'] = hotels_df['positive_review'].apply(get_positive_nothing)\n",
    "\n",
    "# Get nothing negative\n",
    "def get_negative_nothing(review):\n",
    "    if review == 'no negative' or review == ' nothing ' or review == ' n a' or review == ' nothing' or review == ' ':\n",
    "        return 1\n",
    "    else: \n",
    "        return 0\n",
    "\n",
    "hotels_df['negative_nothing'] = hotels_df['negative_review'].apply(get_negative_nothing)\n",
    "\n",
    "# Get location from reviews\n",
    "def get_review_location(review):\n",
    "    if 'location' in review:\n",
    "        return 1\n",
    "    else:\n",
    "        return 0\n",
    "    \n",
    "hotels_df['positive_location'] = hotels_df['positive_review'].apply(get_review_location)\n",
    "hotels_df['negative_location'] = hotels_df['negative_review'].apply(get_review_location)\n",
    "\n",
    "# Get everything from reviews\n",
    "def get_everything_review(review):\n",
    "    if 'everything' in review:\n",
    "        return 1\n",
    "    else:\n",
    "        return 0\n",
    "    \n",
    "hotels_df['positive_everything'] = hotels_df['positive_review'].apply(get_everything_review)\n",
    "hotels_df['negative_everything'] = hotels_df['negative_review'].apply(get_everything_review)\n",
    "\n",
    "# Get breakfast from reviews\n",
    "def get_breakfast_reviews(review):\n",
    "    if 'breakfast' in review or 'brekfast' in review:\n",
    "        return 1\n",
    "    else:\n",
    "        return 0\n",
    "    \n",
    "hotels_df['positive_breakfast'] = hotels_df['positive_review'].apply(get_breakfast_reviews)\n",
    "hotels_df['negative_breakfast'] = hotels_df['negative_review'].apply(get_breakfast_reviews)"
   ]
  },
  {
   "cell_type": "code",
   "execution_count": null,
   "metadata": {},
   "outputs": [],
   "source": [
    "hotels_df = hotels_df.drop(columns=['reviewer_nationality'], axis=1)\n",
    "hotels_df = hotels_df.drop(['hotel_address', 'review_date', 'negative_review', 'positive_review', 'tags'], axis=1)"
   ]
  },
  {
   "cell_type": "code",
   "execution_count": null,
   "metadata": {},
   "outputs": [],
   "source": [
    "hotels_df = pd.get_dummies(hotels_df, columns=['country'])"
   ]
  },
  {
   "cell_type": "code",
   "execution_count": null,
   "metadata": {},
   "outputs": [],
   "source": [
    "import category_encoders as ce\n",
    "\n",
    "bin_encoder = ce.BinaryEncoder(cols=['hotel_name'])\n",
    "hotel_bin = bin_encoder.fit_transform(hotels_df['hotel_name'])\n",
    "\n",
    "hotels_df = pd.concat([hotels_df, hotel_bin], axis=1)\n",
    "hotels_df = hotels_df.drop(columns=['hotel_name'], axis=1)"
   ]
  },
  {
   "cell_type": "code",
   "execution_count": null,
   "metadata": {},
   "outputs": [],
   "source": [
    "fig = plt.figure(figsize=(46,16))\n",
    "sns.heatmap(hotels_df.corr(), annot=True, linecolor='black', linewidths=1, cmap='coolwarm')"
   ]
  },
  {
   "cell_type": "code",
   "execution_count": null,
   "metadata": {},
   "outputs": [],
   "source": [
    "hotels_1_df = hotels_df.drop(columns=['lat', 'lng', 'business trip', 'total_number_of_reviews'], axis=1)"
   ]
  },
  {
   "cell_type": "code",
   "execution_count": null,
   "metadata": {},
   "outputs": [],
   "source": [
    "fig = plt.figure(figsize=(46,16))\n",
    "sns.heatmap(hotels_1_df.corr(), annot=True, linecolor='black', linewidths=1, cmap='coolwarm')"
   ]
  },
  {
   "cell_type": "code",
   "execution_count": null,
   "metadata": {},
   "outputs": [],
   "source": [
    "cat_cols = ['leisure trip', 'submitted from a mobile device', 'couple', 'solo traveler', 'group', 'family with young children', 'double room', 'standard double room', 'superior double room', \n",
    "            'family with older children', 'deluxe double room', 'double or twin room', 'standard double or twin room', 'classic double room', 'superior double or twin room', '2 rooms', \n",
    "            'standard twin room', 'single room', 'positive_nothing', 'negative_nothing', 'positive_location', 'negative_location', 'positive_everything', 'negative_everything', 'positive_breakfast', \n",
    "            'negative_breakfast', 'country_Austria', 'country_France', 'country_Italy', 'country_Netherlands', 'country_Spain', 'country_United_Kingdom', 'hotel_name_0', 'hotel_name_1', \n",
    "            'hotel_name_2', 'hotel_name_3', 'hotel_name_4', 'hotel_name_5', 'hotel_name_6', 'hotel_name_7', 'hotel_name_8', 'hotel_name_9', 'hotel_name_10']\n",
    "\n",
    "num_cols = ['additional_number_of_scoring', 'average_score', 'review_total_negative_word_counts', 'review_total_positive_word_counts', 'total_number_of_reviews_reviewer_has_given', \n",
    "            'days_since_review', 'nights_satyed',]"
   ]
  },
  {
   "cell_type": "code",
   "execution_count": null,
   "metadata": {},
   "outputs": [],
   "source": [
    "X = hotels_1_df.drop(['reviewer_score'], axis = 1)  \n",
    "y = hotels_1_df['reviewer_score']  \n",
    "      \n",
    "# Загружаем специальный инструмент для разбивки:  \n",
    "from sklearn.model_selection import train_test_split  \n",
    "      \n",
    "# Наборы данных с меткой \"train\" будут использоваться для обучения модели, \"test\" — для тестирования.  \n",
    "# Для тестирования мы будем использовать 25 % от исходного датасета.  \n",
    "X_train, X_test, y_train, y_test = train_test_split(X, y, test_size=0.25, random_state=42)"
   ]
  },
  {
   "cell_type": "code",
   "execution_count": null,
   "metadata": {},
   "outputs": [],
   "source": [
    "y=y.astype('int')\n",
    "\n",
    "...\n",
    "from sklearn.feature_selection import chi2 # хи-квадрат\n",
    "\n",
    "imp_cat = pd.Series(chi2(X[cat_cols], y)[0], index=cat_cols)\n",
    "imp_cat.sort_values(inplace = True)\n",
    "fig = plt.figure(figsize=(16,10))\n",
    "imp_cat.plot(kind = 'barh')"
   ]
  },
  {
   "cell_type": "code",
   "execution_count": null,
   "metadata": {},
   "outputs": [],
   "source": [
    "from sklearn.feature_selection import f_classif # anova\n",
    "\n",
    "imp_num = pd.Series(f_classif(X[num_cols], y)[0], index = num_cols)\n",
    "imp_num.sort_values(inplace = True)\n",
    "imp_num.plot(kind = 'barh')"
   ]
  },
  {
   "cell_type": "code",
   "execution_count": null,
   "metadata": {},
   "outputs": [],
   "source": [
    "hotels_2_df = hotels_1_df.drop(columns=['days_since_review', 'nights_satyed', 'hotel_name_8', 'hotel_name_4', 'hotel_name_9', 'hotel_name_5', 'hotel_name_3', 'deluxe double room', 'double or twin room', 'hotel_name_6', 'hotel_name_10', 'hotel_name_2', '2 rooms', 'family with older children', 'family with older children', 'country_France', 'country_Italy', 'group', 'hotel_name_0', 'superior double room', 'classic double room', 'standard double or twin room', 'country_Netherlands', 'double room', 'family with young children'])"
   ]
  },
  {
   "cell_type": "code",
   "execution_count": null,
   "metadata": {},
   "outputs": [],
   "source": [
    "# hotels_2_df['spring'] = hotels_2_df['review_month'].apply(lambda x: 1 if 3 <= x <= 5 else 0)\n",
    "# hotels_2_df['summer'] = hotels_2_df['review_month'].apply(lambda x: 1 if 6 <= x <= 8 else 0)\n",
    "# hotels_2_df['autumn'] = hotels_2_df['review_month'].apply(lambda x: 1 if 9 <= x <= 11 else 0)\n",
    "# hotels_2_df['winter'] = hotels_2_df['review_month'].apply(lambda x: 1 if ((x == 12) or (1 <= x <= 2)) else 0)"
   ]
  },
  {
   "cell_type": "code",
   "execution_count": null,
   "metadata": {},
   "outputs": [],
   "source": [
    "# hotels_2_df = hotels_2_df.drop(columns=['review_month'])"
   ]
  },
  {
   "cell_type": "code",
   "execution_count": null,
   "metadata": {},
   "outputs": [],
   "source": [
    "hotels_2_df.shape"
   ]
  },
  {
   "cell_type": "code",
   "execution_count": null,
   "metadata": {},
   "outputs": [],
   "source": [
    "X = hotels_2_df.drop(['reviewer_score'], axis = 1)  \n",
    "y = hotels_2_df['reviewer_score']  \n",
    "      \n",
    "# Загружаем специальный инструмент для разбивки:  \n",
    "from sklearn.model_selection import train_test_split  \n",
    "      \n",
    "# Наборы данных с меткой \"train\" будут использоваться для обучения модели, \"test\" — для тестирования.  \n",
    "# Для тестирования мы будем использовать 25 % от исходного датасета.  \n",
    "X_train, X_test, y_train, y_test = train_test_split(X, y, test_size=0.25, random_state=42)"
   ]
  },
  {
   "cell_type": "code",
   "execution_count": null,
   "metadata": {},
   "outputs": [],
   "source": [
    "from sklearn.ensemble import RandomForestRegressor # инструмент для создания и обучения модели  \n",
    "from sklearn import metrics # инструменты для оценки точности модели  \n",
    "      \n",
    "# Создаём модель  \n",
    "regr = RandomForestRegressor(n_estimators=100)  \n",
    "      \n",
    "# Обучаем модель на тестовом наборе данных  \n",
    "regr.fit(X_train, y_train)  \n",
    "      \n",
    "# Используем обученную модель для предсказания рейтинга отелей в тестовой выборке.  \n",
    "# Предсказанные значения записываем в переменную y_pred  \n",
    "y_pred = regr.predict(X_test)"
   ]
  },
  {
   "cell_type": "code",
   "execution_count": null,
   "metadata": {},
   "outputs": [],
   "source": [
    "print('MAPE:', metrics.mean_absolute_percentage_error(y_test, y_pred))"
   ]
  },
  {
   "cell_type": "code",
   "execution_count": null,
   "metadata": {},
   "outputs": [],
   "source": [
    "print('MAPE:', metrics.mean_absolute_percentage_error(y_test, y_pred))"
   ]
  },
  {
   "cell_type": "code",
   "execution_count": null,
   "metadata": {},
   "outputs": [],
   "source": [
    "hotels_1_df.info()"
   ]
  }
 ],
 "metadata": {
  "kernelspec": {
   "display_name": "Python 3",
   "language": "python",
   "name": "python3"
  },
  "language_info": {
   "codemirror_mode": {
    "name": "ipython",
    "version": 3
   },
   "file_extension": ".py",
   "mimetype": "text/x-python",
   "name": "python",
   "nbconvert_exporter": "python",
   "pygments_lexer": "ipython3",
   "version": "3.11.4"
  },
  "orig_nbformat": 4
 },
 "nbformat": 4,
 "nbformat_minor": 2
}
